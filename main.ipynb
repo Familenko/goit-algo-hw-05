{
 "cells": [
  {
   "cell_type": "markdown",
   "metadata": {},
   "source": [
    "# Завдання 1"
   ]
  },
  {
   "cell_type": "markdown",
   "metadata": {},
   "source": [
    "Додати метод delete для видалення пар ключ-значення таблиці HashTable , яка реалізована в конспекті."
   ]
  },
  {
   "cell_type": "code",
   "execution_count": 1,
   "metadata": {},
   "outputs": [],
   "source": [
    "class HashTable:\n",
    "    def __init__(self, size):\n",
    "        self.size = size\n",
    "        self.table = [[] for _ in range(self.size)]\n",
    "\n",
    "    def hash_function(self, key):\n",
    "        return hash(key) % self.size\n",
    "\n",
    "    def insert(self, key, value):\n",
    "        key_hash = self.hash_function(key)\n",
    "        key_value = [key, value]\n",
    "\n",
    "        if self.table[key_hash] is None:\n",
    "            self.table[key_hash] = list([key_value])\n",
    "            return True\n",
    "        else:\n",
    "            for pair in self.table[key_hash]:\n",
    "                if pair[0] == key:\n",
    "                    pair[1] = value\n",
    "                    return True\n",
    "            self.table[key_hash].append(key_value)\n",
    "            return True\n",
    "\n",
    "    def get(self, key):\n",
    "        key_hash = self.hash_function(key)\n",
    "        if self.table[key_hash] is not None:\n",
    "            for pair in self.table[key_hash]:\n",
    "                if pair[0] == key:\n",
    "                    return pair[1]\n",
    "        return None\n",
    "    \n",
    "    def delete(self, key):\n",
    "        key_hash = self.hash_function(key)\n",
    "        if self.table[key_hash] is None:\n",
    "            return False\n",
    "        for pair in range(len(self.table[key_hash])):\n",
    "            if self.table[key_hash][pair][0] == key:\n",
    "                self.table[key_hash].pop(pair)\n",
    "                return True\n",
    "        return False"
   ]
  },
  {
   "cell_type": "markdown",
   "metadata": {},
   "source": [
    "тестування"
   ]
  },
  {
   "cell_type": "code",
   "execution_count": 2,
   "metadata": {},
   "outputs": [
    {
     "name": "stdout",
     "output_type": "stream",
     "text": [
      "10\n",
      "20\n",
      "30\n",
      "True\n",
      "None\n"
     ]
    }
   ],
   "source": [
    "# Тестуємо нашу хеш-таблицю:\n",
    "H = HashTable(5)\n",
    "H.insert(\"apple\", 10)\n",
    "H.insert(\"orange\", 20)\n",
    "H.insert(\"banana\", 30)\n",
    "\n",
    "print(H.get(\"apple\"))   # Виведе: 10\n",
    "print(H.get(\"orange\"))  # Виведе: 20\n",
    "print(H.get(\"banana\"))  # Виведе: 30\n",
    "print(H.delete(\"apple\")) # Виведе: True\n",
    "print(H.get(\"apple\"))   # Виведе: None"
   ]
  },
  {
   "cell_type": "markdown",
   "metadata": {},
   "source": [
    "# Завдання 2"
   ]
  },
  {
   "cell_type": "markdown",
   "metadata": {},
   "source": [
    "Реалізувати двійковий пошук для відсортованого масиву з дробовими числами. Написана функція для двійкового пошуку повинна повертати кортеж, де першим елементом є кількість ітерацій, потрібних для знаходження елемента. Другим елементом має бути \"верхня межа\" — це найменший елемент, який є більшим або рівним заданому значенню."
   ]
  },
  {
   "cell_type": "code",
   "execution_count": 3,
   "metadata": {},
   "outputs": [],
   "source": [
    "def binary_search(arr, x):\n",
    "    low = 0\n",
    "    high = len(arr) - 1\n",
    "    mid = 0\n",
    "\n",
    "    iteration = 0\n",
    "    result = -1\n",
    "    upper_bound = None\n",
    " \n",
    "    while low <= high:\n",
    "        print('arr', arr[low:high+1])\n",
    "        print('upper_bound', round(upper_bound, 2) if upper_bound is not None else None)\n",
    "        print()\n",
    "        mid = (high + low) // 2\n",
    " \n",
    "        if arr[mid] < x:\n",
    "            low = mid + 1\n",
    "            iteration += 1\n",
    " \n",
    "        elif arr[mid] > x:\n",
    "            high = mid - 1\n",
    "            iteration += 1\n",
    "            upper_bound = arr[mid] if upper_bound is None or arr[mid] < upper_bound else upper_bound\n",
    " \n",
    "        else:\n",
    "            result = mid\n",
    "            iteration += 1\n",
    "            upper_bound = arr[mid]\n",
    "            break\n",
    "\n",
    "    if upper_bound is None and low < len(arr):\n",
    "        upper_bound = arr[low]\n",
    " \n",
    "    return result, iteration, upper_bound"
   ]
  },
  {
   "cell_type": "code",
   "execution_count": 4,
   "metadata": {},
   "outputs": [
    {
     "name": "stdout",
     "output_type": "stream",
     "text": [
      "arr [0.  0.1 0.2 0.3 0.4 0.5 0.6 0.7 0.8 0.9 1.  1.1 1.2 1.3 1.4 1.5 1.6 1.7\n",
      " 1.8 1.9 2.  2.1 2.2 2.3 2.4 2.5 2.6 2.7 2.8 2.9 3.  3.1 3.2 3.3 3.4 3.5\n",
      " 3.6 3.7 3.8 3.9 4.  4.1 4.2 4.3 4.4 4.5 4.6 4.7 4.8 4.9 5.  5.1 5.2 5.3\n",
      " 5.4 5.5 5.6 5.7 5.8 5.9 6.  6.1 6.2 6.3 6.4 6.5 6.6 6.7 6.8 6.9 7.  7.1\n",
      " 7.2 7.3 7.4 7.5 7.6 7.7 7.8 7.9 8.  8.1 8.2 8.3 8.4 8.5 8.6 8.7 8.8 8.9\n",
      " 9.  9.1 9.2 9.3 9.4 9.5 9.6 9.7 9.8 9.9]\n",
      "upper_bound None\n",
      "\n",
      "arr [0.  0.1 0.2 0.3 0.4 0.5 0.6 0.7 0.8 0.9 1.  1.1 1.2 1.3 1.4 1.5 1.6 1.7\n",
      " 1.8 1.9 2.  2.1 2.2 2.3 2.4 2.5 2.6 2.7 2.8 2.9 3.  3.1 3.2 3.3 3.4 3.5\n",
      " 3.6 3.7 3.8 3.9 4.  4.1 4.2 4.3 4.4 4.5 4.6 4.7 4.8]\n",
      "upper_bound 4.9\n",
      "\n",
      "arr [0.  0.1 0.2 0.3 0.4 0.5 0.6 0.7 0.8 0.9 1.  1.1 1.2 1.3 1.4 1.5 1.6 1.7\n",
      " 1.8 1.9 2.  2.1 2.2 2.3]\n",
      "upper_bound 2.4\n",
      "\n",
      "arr [0.  0.1 0.2 0.3 0.4 0.5 0.6 0.7 0.8 0.9 1. ]\n",
      "upper_bound 1.1\n",
      "\n",
      "arr [0.  0.1 0.2 0.3 0.4]\n",
      "upper_bound 0.5\n",
      "\n",
      "arr [0.3 0.4]\n",
      "upper_bound 0.5\n",
      "\n",
      "arr [0.4]\n",
      "upper_bound 0.5\n",
      "\n",
      "result 4\n",
      "iteration 7\n",
      "upper_bound 0.4\n"
     ]
    }
   ],
   "source": [
    "import numpy as np\n",
    "\n",
    "test_list_with_floats = np.arange(0, 10, 0.1)\n",
    "result = binary_search(test_list_with_floats, 0.4)\n",
    "print('result', result[0])\n",
    "print('iteration', result[1])\n",
    "print('upper_bound', result[2])"
   ]
  },
  {
   "cell_type": "markdown",
   "metadata": {},
   "source": [
    "# Завдання 3"
   ]
  },
  {
   "cell_type": "code",
   "execution_count": 24,
   "metadata": {},
   "outputs": [],
   "source": [
    "import timeit\n",
    "import pandas as pd"
   ]
  },
  {
   "cell_type": "markdown",
   "metadata": {},
   "source": [
    "### Алгоритм Кнута-Морріса-Пратта"
   ]
  },
  {
   "cell_type": "code",
   "execution_count": 6,
   "metadata": {},
   "outputs": [],
   "source": [
    "def compute_lps(pattern):\n",
    "    lps = [0] * len(pattern)\n",
    "    length = 0\n",
    "    i = 1\n",
    "\n",
    "    while i < len(pattern):\n",
    "        if pattern[i] == pattern[length]:\n",
    "            length += 1\n",
    "            lps[i] = length\n",
    "            i += 1\n",
    "        else:\n",
    "            if length != 0:\n",
    "                length = lps[length - 1]\n",
    "            else:\n",
    "                lps[i] = 0\n",
    "                i += 1\n",
    "\n",
    "    return lps\n",
    "\n",
    "def kmp_search(main_string, pattern):\n",
    "    M = len(pattern)\n",
    "    N = len(main_string)\n",
    "\n",
    "    lps = compute_lps(pattern)\n",
    "\n",
    "    i = j = 0\n",
    "\n",
    "    while i < N:\n",
    "        if pattern[j] == main_string[i]:\n",
    "            i += 1\n",
    "            j += 1\n",
    "        elif j != 0:\n",
    "            j = lps[j - 1]\n",
    "        else:\n",
    "            i += 1\n",
    "\n",
    "        if j == M:\n",
    "            return i - j\n",
    "\n",
    "    return -1"
   ]
  },
  {
   "cell_type": "markdown",
   "metadata": {},
   "source": [
    "### Алгоритм Боєра-Мура"
   ]
  },
  {
   "cell_type": "code",
   "execution_count": 7,
   "metadata": {},
   "outputs": [],
   "source": [
    "def build_shift_table(pattern):\n",
    "  table = {}\n",
    "  length = len(pattern)\n",
    "  for index, char in enumerate(pattern[:-1]):\n",
    "    table[char] = length - index - 1\n",
    "  table.setdefault(pattern[-1], length)\n",
    "  return table\n",
    "\n",
    "def boyer_moore_search(text, pattern):\n",
    "  shift_table = build_shift_table(pattern)\n",
    "  i = 0\n",
    "\n",
    "  while i <= len(text) - len(pattern):\n",
    "    j = len(pattern) - 1\n",
    "\n",
    "    while j >= 0 and text[i + j] == pattern[j]:\n",
    "      j -= 1\n",
    "\n",
    "    if j < 0:\n",
    "      return i\n",
    "\n",
    "    i += shift_table.get(text[i + len(pattern) - 1], len(pattern))\n",
    "\n",
    "  return -1"
   ]
  },
  {
   "cell_type": "markdown",
   "metadata": {},
   "source": [
    "### Алгоритм Рабіна-Карпа"
   ]
  },
  {
   "cell_type": "code",
   "execution_count": 8,
   "metadata": {},
   "outputs": [],
   "source": [
    "def polynomial_hash(s, base=256, modulus=101):\n",
    "    n = len(s)\n",
    "    hash_value = 0\n",
    "    for i, char in enumerate(s):\n",
    "        power_of_base = pow(base, n - i - 1) % modulus\n",
    "        hash_value = (hash_value + ord(char) * power_of_base) % modulus\n",
    "    return hash_value\n",
    "\n",
    "def rabin_karp_search(main_string, substring):\n",
    "    substring_length = len(substring)\n",
    "    main_string_length = len(main_string)\n",
    "    \n",
    "    base = 256 \n",
    "    modulus = 101  \n",
    "    \n",
    "    substring_hash = polynomial_hash(substring, base, modulus)\n",
    "    current_slice_hash = polynomial_hash(main_string[:substring_length], base, modulus)\n",
    "    \n",
    "    h_multiplier = pow(base, substring_length - 1) % modulus\n",
    "    \n",
    "    for i in range(main_string_length - substring_length + 1):\n",
    "        if substring_hash == current_slice_hash:\n",
    "            if main_string[i:i+substring_length] == substring:\n",
    "                return i\n",
    "\n",
    "        if i < main_string_length - substring_length:\n",
    "            current_slice_hash = (current_slice_hash - ord(main_string[i]) * h_multiplier) % modulus\n",
    "            current_slice_hash = (current_slice_hash * base + ord(main_string[i + substring_length])) % modulus\n",
    "            if current_slice_hash < 0:\n",
    "                current_slice_hash += modulus\n",
    "\n",
    "    return -1"
   ]
  },
  {
   "cell_type": "markdown",
   "metadata": {},
   "source": [
    "### my_search"
   ]
  },
  {
   "cell_type": "markdown",
   "metadata": {},
   "source": [
    "оскільки колізї доволі рідкі при використанні стандартної хеш функції, то я хочу побачити як алгоритм працюватиме без перепровірці"
   ]
  },
  {
   "cell_type": "code",
   "execution_count": 9,
   "metadata": {},
   "outputs": [],
   "source": [
    "def my_search(main_string, pattern):\n",
    "    pattern_len = len(pattern)\n",
    "    main_len = len(main_string)\n",
    "\n",
    "    pattern_hesh = hash(pattern)\n",
    "\n",
    "    for main_index in range(main_len - pattern_len + 1):\n",
    "        test_hesh = hash(main_string[main_index:main_index + pattern_len])\n",
    "        if test_hesh == pattern_hesh:\n",
    "            return main_index"
   ]
  },
  {
   "cell_type": "markdown",
   "metadata": {},
   "source": [
    "text 3 це той самий текст 2 але без декількох перших рядків. створений аби протестувати складність алгоритмів при великих обьємах підрядків"
   ]
  },
  {
   "cell_type": "code",
   "execution_count": 10,
   "metadata": {},
   "outputs": [],
   "source": [
    "with open('text 1.txt') as file1:\n",
    "    text1 = file1.read()\n",
    "\n",
    "with open('text 2.txt') as file2:\n",
    "    text2 = file2.read()\n",
    "\n",
    "with open('text 3.txt') as file3:\n",
    "    text3 = file3.read()"
   ]
  },
  {
   "cell_type": "markdown",
   "metadata": {},
   "source": [
    "pattern_3 це підрядок якого не існує в тестуємих текстах"
   ]
  },
  {
   "cell_type": "code",
   "execution_count": 11,
   "metadata": {},
   "outputs": [],
   "source": [
    "def timeit_search(search_func, main_string, pattern):\n",
    "    return timeit.timeit(lambda: search_func(main_string, pattern), number=1)\n",
    "\n",
    "pattern_1 = 'Карпо догнав Мотрю за брамою'\n",
    "pattern_2 = \"\"\"\n",
    "Укрившись, на полу ліг спать;\n",
    "Но лупав тілько все очима,\n",
    "Не міг ні крихти задрімать.\n",
    "На всі боки перевертався,\n",
    "До люльки разів три приймався,\n",
    "Знемігся ж, мов і задрімав.\n",
    "Як ось Анхиз йому приснився,\n",
    "Із пекла батечко явився\n",
    "І синові таке сказав:\n",
    "64 \"Прокинься, милеє дитятко!\n",
    "Пробуркайся і проходись,\n",
    "Се твій прийшов до тебе батько,\n",
    "То не сполохайсь, не жахнись.\n",
    "Мене боги к тобі послали\n",
    "І так сказати приказали:\n",
    "Щоб ти нітрохи не журивсь,\n",
    "Пошлють тобі щасливу долю,\n",
    "Щоб учинив ти божу волю\n",
    "І швидче в Рим переселивсь.\n",
    "65 Збери всі човни, що остались,\n",
    "І гарно зараз їх оправ;\n",
    "Придерж своїх, щоб не впивались,\n",
    "І сю Сицилію остав.\n",
    "Пливи і не журись, небоже!\n",
    "Уже тобі скрізь буде гоже.\n",
    "Та ще, послухай, щось скажу:\n",
    "Щоб в пекло ти зайшов до мене,\n",
    "\"\"\"\n",
    "pattern_3 = 'London is the capital of Great Britain'\n",
    "pattern_4 = text3"
   ]
  },
  {
   "cell_type": "code",
   "execution_count": 12,
   "metadata": {},
   "outputs": [],
   "source": [
    "algoritm = [kmp_search, boyer_moore_search, rabin_karp_search, my_search]\n",
    "patterns = [pattern_1, pattern_2, pattern_3, pattern_4]\n",
    "\n",
    "\n",
    "result = {}\n",
    "for algo in algoritm:\n",
    "    for pattern in patterns:\n",
    "        result.setdefault(algo.__name__, []).append(timeit_search(algo, text1, pattern))\n",
    "    "
   ]
  },
  {
   "cell_type": "code",
   "execution_count": 13,
   "metadata": {},
   "outputs": [
    {
     "data": {
      "text/plain": [
       "{'kmp_search': [0.006191957996634301,\n",
       "  0.017217291999259032,\n",
       "  0.01736887500010198,\n",
       "  0.020484917004068848],\n",
       " 'boyer_moore_search': [0.000997958006337285,\n",
       "  0.0007043329969746992,\n",
       "  0.0007075419998727739,\n",
       "  0.004259082998032682],\n",
       " 'rabin_karp_search': [0.009427041994058527,\n",
       "  0.021246290998533368,\n",
       "  0.012122166001063306,\n",
       "  50.8272504169945],\n",
       " 'my_search': [0.0055658749988651834,\n",
       "  0.042460708995349705,\n",
       "  0.008795249996182974,\n",
       "  0.35381587500160094]}"
      ]
     },
     "execution_count": 13,
     "metadata": {},
     "output_type": "execute_result"
    }
   ],
   "source": [
    "result"
   ]
  },
  {
   "cell_type": "code",
   "execution_count": 28,
   "metadata": {},
   "outputs": [],
   "source": [
    "patterns_name = ['text1', 'text2', 'неіснуючий_підрядок', 'великий_підрядок']\n",
    "df = pd.DataFrame(result, index=patterns_name)"
   ]
  },
  {
   "cell_type": "code",
   "execution_count": 31,
   "metadata": {},
   "outputs": [],
   "source": [
    "df = df.T"
   ]
  },
  {
   "cell_type": "code",
   "execution_count": 36,
   "metadata": {},
   "outputs": [
    {
     "data": {
      "text/html": [
       "<div>\n",
       "<style scoped>\n",
       "    .dataframe tbody tr th:only-of-type {\n",
       "        vertical-align: middle;\n",
       "    }\n",
       "\n",
       "    .dataframe tbody tr th {\n",
       "        vertical-align: top;\n",
       "    }\n",
       "\n",
       "    .dataframe thead th {\n",
       "        text-align: right;\n",
       "    }\n",
       "</style>\n",
       "<table border=\"1\" class=\"dataframe\">\n",
       "  <thead>\n",
       "    <tr style=\"text-align: right;\">\n",
       "      <th></th>\n",
       "      <th>text1</th>\n",
       "      <th>text2</th>\n",
       "      <th>неіснуючий_підрядок</th>\n",
       "      <th>великий_підрядок</th>\n",
       "    </tr>\n",
       "  </thead>\n",
       "  <tbody>\n",
       "    <tr>\n",
       "      <th>boyer_moore_search</th>\n",
       "      <td>0.000998</td>\n",
       "      <td>0.000704</td>\n",
       "      <td>0.000708</td>\n",
       "      <td>0.004259</td>\n",
       "    </tr>\n",
       "    <tr>\n",
       "      <th>my_search</th>\n",
       "      <td>0.005566</td>\n",
       "      <td>0.042461</td>\n",
       "      <td>0.008795</td>\n",
       "      <td>0.353816</td>\n",
       "    </tr>\n",
       "    <tr>\n",
       "      <th>kmp_search</th>\n",
       "      <td>0.006192</td>\n",
       "      <td>0.017217</td>\n",
       "      <td>0.017369</td>\n",
       "      <td>0.020485</td>\n",
       "    </tr>\n",
       "    <tr>\n",
       "      <th>rabin_karp_search</th>\n",
       "      <td>0.009427</td>\n",
       "      <td>0.021246</td>\n",
       "      <td>0.012122</td>\n",
       "      <td>50.827250</td>\n",
       "    </tr>\n",
       "  </tbody>\n",
       "</table>\n",
       "</div>"
      ],
      "text/plain": [
       "                       text1     text2  неіснуючий_підрядок  великий_підрядок\n",
       "boyer_moore_search  0.000998  0.000704             0.000708          0.004259\n",
       "my_search           0.005566  0.042461             0.008795          0.353816\n",
       "kmp_search          0.006192  0.017217             0.017369          0.020485\n",
       "rabin_karp_search   0.009427  0.021246             0.012122         50.827250"
      ]
     },
     "execution_count": 36,
     "metadata": {},
     "output_type": "execute_result"
    }
   ],
   "source": [
    "df.sort_values(['text1', 'text2'], axis=0, ascending=True)"
   ]
  },
  {
   "cell_type": "code",
   "execution_count": 37,
   "metadata": {},
   "outputs": [
    {
     "data": {
      "text/html": [
       "<div>\n",
       "<style scoped>\n",
       "    .dataframe tbody tr th:only-of-type {\n",
       "        vertical-align: middle;\n",
       "    }\n",
       "\n",
       "    .dataframe tbody tr th {\n",
       "        vertical-align: top;\n",
       "    }\n",
       "\n",
       "    .dataframe thead th {\n",
       "        text-align: right;\n",
       "    }\n",
       "</style>\n",
       "<table border=\"1\" class=\"dataframe\">\n",
       "  <thead>\n",
       "    <tr style=\"text-align: right;\">\n",
       "      <th></th>\n",
       "      <th>text1</th>\n",
       "      <th>text2</th>\n",
       "      <th>неіснуючий_підрядок</th>\n",
       "      <th>великий_підрядок</th>\n",
       "    </tr>\n",
       "  </thead>\n",
       "  <tbody>\n",
       "    <tr>\n",
       "      <th>boyer_moore_search</th>\n",
       "      <td>0.000998</td>\n",
       "      <td>0.000704</td>\n",
       "      <td>0.000708</td>\n",
       "      <td>0.004259</td>\n",
       "    </tr>\n",
       "    <tr>\n",
       "      <th>my_search</th>\n",
       "      <td>0.005566</td>\n",
       "      <td>0.042461</td>\n",
       "      <td>0.008795</td>\n",
       "      <td>0.353816</td>\n",
       "    </tr>\n",
       "    <tr>\n",
       "      <th>rabin_karp_search</th>\n",
       "      <td>0.009427</td>\n",
       "      <td>0.021246</td>\n",
       "      <td>0.012122</td>\n",
       "      <td>50.827250</td>\n",
       "    </tr>\n",
       "    <tr>\n",
       "      <th>kmp_search</th>\n",
       "      <td>0.006192</td>\n",
       "      <td>0.017217</td>\n",
       "      <td>0.017369</td>\n",
       "      <td>0.020485</td>\n",
       "    </tr>\n",
       "  </tbody>\n",
       "</table>\n",
       "</div>"
      ],
      "text/plain": [
       "                       text1     text2  неіснуючий_підрядок  великий_підрядок\n",
       "boyer_moore_search  0.000998  0.000704             0.000708          0.004259\n",
       "my_search           0.005566  0.042461             0.008795          0.353816\n",
       "rabin_karp_search   0.009427  0.021246             0.012122         50.827250\n",
       "kmp_search          0.006192  0.017217             0.017369          0.020485"
      ]
     },
     "execution_count": 37,
     "metadata": {},
     "output_type": "execute_result"
    }
   ],
   "source": [
    "df.sort_values(['неіснуючий_підрядок'], axis=0, ascending=True)"
   ]
  },
  {
   "cell_type": "code",
   "execution_count": 38,
   "metadata": {},
   "outputs": [
    {
     "data": {
      "text/html": [
       "<div>\n",
       "<style scoped>\n",
       "    .dataframe tbody tr th:only-of-type {\n",
       "        vertical-align: middle;\n",
       "    }\n",
       "\n",
       "    .dataframe tbody tr th {\n",
       "        vertical-align: top;\n",
       "    }\n",
       "\n",
       "    .dataframe thead th {\n",
       "        text-align: right;\n",
       "    }\n",
       "</style>\n",
       "<table border=\"1\" class=\"dataframe\">\n",
       "  <thead>\n",
       "    <tr style=\"text-align: right;\">\n",
       "      <th></th>\n",
       "      <th>text1</th>\n",
       "      <th>text2</th>\n",
       "      <th>неіснуючий_підрядок</th>\n",
       "      <th>великий_підрядок</th>\n",
       "    </tr>\n",
       "  </thead>\n",
       "  <tbody>\n",
       "    <tr>\n",
       "      <th>boyer_moore_search</th>\n",
       "      <td>0.000998</td>\n",
       "      <td>0.000704</td>\n",
       "      <td>0.000708</td>\n",
       "      <td>0.004259</td>\n",
       "    </tr>\n",
       "    <tr>\n",
       "      <th>kmp_search</th>\n",
       "      <td>0.006192</td>\n",
       "      <td>0.017217</td>\n",
       "      <td>0.017369</td>\n",
       "      <td>0.020485</td>\n",
       "    </tr>\n",
       "    <tr>\n",
       "      <th>my_search</th>\n",
       "      <td>0.005566</td>\n",
       "      <td>0.042461</td>\n",
       "      <td>0.008795</td>\n",
       "      <td>0.353816</td>\n",
       "    </tr>\n",
       "    <tr>\n",
       "      <th>rabin_karp_search</th>\n",
       "      <td>0.009427</td>\n",
       "      <td>0.021246</td>\n",
       "      <td>0.012122</td>\n",
       "      <td>50.827250</td>\n",
       "    </tr>\n",
       "  </tbody>\n",
       "</table>\n",
       "</div>"
      ],
      "text/plain": [
       "                       text1     text2  неіснуючий_підрядок  великий_підрядок\n",
       "boyer_moore_search  0.000998  0.000704             0.000708          0.004259\n",
       "kmp_search          0.006192  0.017217             0.017369          0.020485\n",
       "my_search           0.005566  0.042461             0.008795          0.353816\n",
       "rabin_karp_search   0.009427  0.021246             0.012122         50.827250"
      ]
     },
     "execution_count": 38,
     "metadata": {},
     "output_type": "execute_result"
    }
   ],
   "source": [
    "df.sort_values(['великий_підрядок'], axis=0, ascending=True)"
   ]
  },
  {
   "cell_type": "markdown",
   "metadata": {},
   "source": [
    "Алгоритм Боєра-Мура виявився найшвидшим на тестових рядка. \n",
    "При відсутніх значеннях алгоритм Боєра-Мура також виявився найшидшим\n",
    "\n",
    "Чистий алгоритм Рабіна-Карпа при відсутній перевірці на колізії в середньому випадку теж демонструє непогані показники і я вважаю що саме ця технологія в майбутньому може зазнати покращення. Оскільки для цього алгоритму критично важлива продуктивність хешфункції, що якраз і покращуєтся з часом. \n",
    "При великих підрядках оригінальний алгоритм Рабіна-Карпа показав дуже погані значення, але як було виявлено це було повязано з перепровіркою на колізії.\n"
   ]
  }
 ],
 "metadata": {
  "kernelspec": {
   "display_name": "Python 3",
   "language": "python",
   "name": "python3"
  },
  "language_info": {
   "codemirror_mode": {
    "name": "ipython",
    "version": 3
   },
   "file_extension": ".py",
   "mimetype": "text/x-python",
   "name": "python",
   "nbconvert_exporter": "python",
   "pygments_lexer": "ipython3",
   "version": "3.11.3"
  }
 },
 "nbformat": 4,
 "nbformat_minor": 2
}
